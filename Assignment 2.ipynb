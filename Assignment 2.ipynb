{
 "cells": [
  {
   "cell_type": "code",
   "execution_count": 1,
   "id": "9c2d143d-cffd-4428-aaea-79be67687276",
   "metadata": {},
   "outputs": [
    {
     "name": "stdout",
     "output_type": "stream",
     "text": [
      "Capitalize function: Dinesh komara\n",
      "Name.upper() function: DINESH KOMARA\n",
      "Name.lower() function: dinesh komara\n",
      "Name.title() function: Dinesh Komara\n"
     ]
    }
   ],
   "source": [
    "#Refer capitalize function in shared program files, replicate .upper() and .lower() functions\n",
    "name = \"dinesh komara\"\n",
    "capitalized_name = name.capitalize()\n",
    "uppercase_name= name.upper()\n",
    "lowercase_name = name.lower()\n",
    "title_name=name.title()\n",
    "print(\"Capitalize function:\", capitalized_name)\n",
    "print(\"Name.upper() function:\", uppercase_name)\n",
    "print(\"Name.lower() function:\", lowercase_name)\n",
    "print(\"Name.title() function:\", title_name)"
   ]
  },
  {
   "cell_type": "code",
   "execution_count": 2,
   "id": "071049fe-1c32-4c15-81f5-d4fa98c47a14",
   "metadata": {},
   "outputs": [
    {
     "name": "stdout",
     "output_type": "stream",
     "text": [
      "Odd sequence: [1, 65, 1, 65, 33, 87, 9]\n"
     ]
    }
   ],
   "source": [
    "#Create a odd sequence from given sequence [1,2,34,65,1,2,65,66,44,33,22,87,123412,09,78,76]\n",
    "sequence = [1,2,34,65,1,2,65,66,44,33,22,87,123412,9,78,76]\n",
    "odd_sequence = [x for x in sequence if x % 2 != 0]\n",
    "print(\"Odd sequence:\", odd_sequence)"
   ]
  },
  {
   "cell_type": "code",
   "execution_count": 3,
   "id": "44577a37-50ea-4767-b911-b890fcc49b61",
   "metadata": {},
   "outputs": [
    {
     "name": "stdout",
     "output_type": "stream",
     "text": [
      "Fruits with values more than 20: {'pineapple': 25, 'orange': 30, 'strawberry': 50}\n"
     ]
    }
   ],
   "source": [
    "#{‘apple’: 10, ‘mango’: 20, ‘pineapple’: 25, ‘orange’: 30, ‘strawberry’: 50, ‘jackfruit’: 10} Generate a comprehension fruits which has more than 20\n",
    "fruits = {'apple': 10, 'mango': 20, 'pineapple': 25, 'orange': 30, 'strawberry': 50, 'jackfruit': 10}\n",
    "fruits_more_than_20 = {key: value for key, value in fruits.items() if value > 20}\n",
    "print(\"Fruits with values more than 20:\", fruits_more_than_20)"
   ]
  },
  {
   "cell_type": "code",
   "execution_count": null,
   "id": "7d0d608f-8437-44e2-94dd-17f0149cd846",
   "metadata": {},
   "outputs": [],
   "source": []
  }
 ],
 "metadata": {
  "kernelspec": {
   "display_name": "Python 3 (ipykernel)",
   "language": "python",
   "name": "python3"
  },
  "language_info": {
   "codemirror_mode": {
    "name": "ipython",
    "version": 3
   },
   "file_extension": ".py",
   "mimetype": "text/x-python",
   "name": "python",
   "nbconvert_exporter": "python",
   "pygments_lexer": "ipython3",
   "version": "3.11.5"
  }
 },
 "nbformat": 4,
 "nbformat_minor": 5
}
