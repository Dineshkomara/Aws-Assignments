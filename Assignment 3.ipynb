{
 "cells": [
  {
   "cell_type": "code",
   "execution_count": 1,
   "id": "24327fbf-c0da-4c92-a6ab-556942501bd4",
   "metadata": {},
   "outputs": [
    {
     "name": "stdout",
     "output_type": "stream",
     "text": [
      "Dinesh Komara\n"
     ]
    }
   ],
   "source": [
    "#Write Examples code for concatenation\n",
    "first_name=\"Dinesh\"\n",
    "last_name=\"Komara\"\n",
    "full_name=first_name+\" \"+last_name\n",
    "print(full_name)"
   ]
  },
  {
   "cell_type": "code",
   "execution_count": 3,
   "id": "45e34f1e-4e72-4a22-a042-1ba5c84c9af7",
   "metadata": {},
   "outputs": [
    {
     "name": "stdout",
     "output_type": "stream",
     "text": [
      "Formatted string: Name: Dinesh, Age: 20\n",
      "Formatted string: Name: Dinesh, Age: 20\n",
      "Formatted string: Name: Dinesh, Age: 20\n"
     ]
    }
   ],
   "source": [
    "# Write one Examples for each formatting techniques\n",
    "#Go Through Reference site and apply various options into formatting techniques\n",
    "name = \"Dinesh\"\n",
    "age = 20\n",
    "formatted_string = \"Name: %s, Age: %d\" % (name, age)\n",
    "print(\"Formatted string:\", formatted_string)\n",
    "\n",
    "from string import Template\n",
    "template = Template(\"Name: $name, Age: $age\")\n",
    "formatted_string = template.substitute(name=name, age=age)\n",
    "print(\"Formatted string:\", formatted_string)\n",
    "\n",
    "formatted_string = \"Name: {}, Age: {}\".format(name, age)\n",
    "print(\"Formatted string:\", formatted_string)"
   ]
  },
  {
   "cell_type": "code",
   "execution_count": 5,
   "id": "76349b24-72b0-47ed-ad30-0409f51f890f",
   "metadata": {},
   "outputs": [
    {
     "name": "stdout",
     "output_type": "stream",
     "text": [
      "addition of a and b = 10\n",
      "substraction of b from a = 4\n",
      "Multiplication of a and b is  21\n",
      "divison of a by b is  2.3333333333333335\n",
      "modulus of a by b is  1\n",
      "floor division of a by b is  2\n",
      "exponention of a by b is  343\n"
     ]
    }
   ],
   "source": [
    "# Write example for each arithmetic operators\n",
    "a=7\n",
    "b=3\n",
    "# addition\n",
    "print(\"addition of a and b =\",a+b)\n",
    "# substraction\n",
    "print(\"substraction of b from a =\",a-b)\n",
    "# multiplication\n",
    "print(\"Multiplication of a and b is \",a*b)\n",
    "# Division\n",
    "print(\"divison of a by b is \",a/b)\n",
    "# modulus\n",
    "print(\"modulus of a by b is \",a%b)\n",
    "#floor division\n",
    "print(\"floor division of a by b is \",a//b)\n",
    "#exponention \n",
    "print(\"exponention of a by b is \",a**b)"
   ]
  },
  {
   "cell_type": "code",
   "execution_count": 10,
   "id": "b2ed11ac-d57c-4233-97b0-03974e1f4194",
   "metadata": {},
   "outputs": [
    {
     "name": "stdout",
     "output_type": "stream",
     "text": [
      "4\n",
      "28\n",
      "9.333333333333334\n",
      "3.0\n",
      "0.0\n",
      "343\n"
     ]
    }
   ],
   "source": [
    "# Write Example for assignment operators (except: = &amp; +=)\n",
    "x=7\n",
    "# substraction assignment\n",
    "x-=3\n",
    "print(x)\n",
    "#multiplication assignment\n",
    "x*=7\n",
    "print(x)\n",
    "#divison assignment\n",
    "x/=3\n",
    "print(x)\n",
    "#floor divison assignment\n",
    "x//=3\n",
    "print(x)\n",
    "#modulus assignment\n",
    "x%=3\n",
    "print(x)\n",
    "x=7\n",
    "#exponention\n",
    "x**=3\n",
    "print(x)"
   ]
  },
  {
   "cell_type": "code",
   "execution_count": null,
   "id": "8ac7a2d1-9d6b-472e-979c-4f96f58499e3",
   "metadata": {},
   "outputs": [],
   "source": []
  }
 ],
 "metadata": {
  "kernelspec": {
   "display_name": "Python 3 (ipykernel)",
   "language": "python",
   "name": "python3"
  },
  "language_info": {
   "codemirror_mode": {
    "name": "ipython",
    "version": 3
   },
   "file_extension": ".py",
   "mimetype": "text/x-python",
   "name": "python",
   "nbconvert_exporter": "python",
   "pygments_lexer": "ipython3",
   "version": "3.11.5"
  }
 },
 "nbformat": 4,
 "nbformat_minor": 5
}
