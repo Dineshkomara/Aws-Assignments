{
 "cells": [
  {
   "cell_type": "code",
   "execution_count": 1,
   "id": "b5903656-1eea-4cc7-b7e6-db070d267adc",
   "metadata": {},
   "outputs": [
    {
     "name": "stdout",
     "output_type": "stream",
     "text": [
      "Upper case: DINESH\n",
      "Lower case: dinesh\n",
      "Capitalized: Dinesh\n",
      "Replaced: DinEsh\n"
     ]
    }
   ],
   "source": [
    "# 1.Define a string\n",
    "name = \"Dinesh\"\n",
    "# Convert to upper case\n",
    "upper_case = name.upper()\n",
    "print(\"Upper case:\", upper_case)\n",
    "\n",
    "# Convert to lower case\n",
    "lower_case = name.lower()\n",
    "print(\"Lower case:\", lower_case)\n",
    "\n",
    "# Capitalize the string\n",
    "capitalized = name.capitalize()\n",
    "print(\"Capitalized:\", capitalized)\n",
    "\n",
    "# Replace 'e' with 'E'\n",
    "replaced = name.replace('e', 'E')\n",
    "print(\"Replaced:\", replaced)\n"
   ]
  },
  {
   "cell_type": "code",
   "execution_count": 2,
   "id": "4e45de0d-dfa9-409b-bf9a-b9bc56da353d",
   "metadata": {},
   "outputs": [
    {
     "name": "stdout",
     "output_type": "stream",
     "text": [
      "Extended list: [1, 2, 3, 5, 7]\n"
     ]
    }
   ],
   "source": [
    "# 2.Define a list\n",
    "L = [1, 2, 3]\n",
    "\n",
    "# Extend the list\n",
    "L.extend([5, 6, 7])\n",
    "\n",
    "# Remove the 5th value\n",
    "del L[4]\n",
    "\n",
    "print(\"Extended list:\", L)"
   ]
  },
  {
   "cell_type": "code",
   "execution_count": 3,
   "id": "509496bf-95b5-4580-b241-099cd62aefd6",
   "metadata": {},
   "outputs": [
    {
     "name": "stdout",
     "output_type": "stream",
     "text": [
      "Updated dictionary: {'mango': 15, 'apple': 15, 'pineapple': 15}\n"
     ]
    }
   ],
   "source": [
    "# 3.Define a dictionary\n",
    "d = {'mango': 10, 'banana': 0, 'apple': 15, 'orange': 0, 'pineapple': 20}\n",
    "\n",
    "# Remove out of stock fruits (value == 0)\n",
    "out_of_stock = [key for key, value in d.items() if value == 0]\n",
    "for fruit in out_of_stock:\n",
    "    del d[fruit]\n",
    "\n",
    "# Update mango quantity to 15 and decrease pineapple by 5\n",
    "d['mango'] = 15\n",
    "d['pineapple'] -= 5\n",
    "\n",
    "print(\"Updated dictionary:\", d)"
   ]
  },
  {
   "cell_type": "code",
   "execution_count": 37,
   "id": "1197e6ea-c696-4363-8ee4-febb434216ef",
   "metadata": {},
   "outputs": [
    {
     "name": "stdout",
     "output_type": "stream",
     "text": [
      "[2, 4, 6, 8, 10, 12, 14, 16, 18]\n"
     ]
    }
   ],
   "source": [
    "# Given list\n",
    "a = [2, 4, 6, 8, 10]\n",
    "\n",
    "# Problem 1\n",
    "a += [12, 14, 16, 18]\n",
    "print(a)"
   ]
  },
  {
   "cell_type": "code",
   "execution_count": 38,
   "id": "093d24ed-888e-4f67-9cbd-6c7812b8a155",
   "metadata": {},
   "outputs": [
    {
     "name": "stdout",
     "output_type": "stream",
     "text": [
      "[-10, -8, -6, -4, -2, 0, 2, 4, 6, 10]\n"
     ]
    }
   ],
   "source": [
    "# Problem 2\n",
    "print([x-12 for x in a]+[10])"
   ]
  },
  {
   "cell_type": "code",
   "execution_count": 39,
   "id": "8ffdb1a1-eb4f-41d7-9dca-9ec8c58e8673",
   "metadata": {},
   "outputs": [
    {
     "name": "stdout",
     "output_type": "stream",
     "text": [
      "[2, 3, 4, 5, 6, 7, 8, 10]\n"
     ]
    }
   ],
   "source": [
    "#problem 3\n",
    "a = [2, 4, 6, 8, 10]\n",
    "a[1:1]=[3]\n",
    "a[3:3]=[5]\n",
    "a[5:5]=[7]\n",
    "print(a)"
   ]
  },
  {
   "cell_type": "code",
   "execution_count": 40,
   "id": "767da3ce-9d79-4ecd-a87d-945eb1f2e7d8",
   "metadata": {},
   "outputs": [
    {
     "name": "stdout",
     "output_type": "stream",
     "text": [
      "[2, 4, 6, 'a', 'b', 'c', 8, 10]\n"
     ]
    }
   ],
   "source": [
    "# Problem 4\n",
    "a = [2, 4, 6, 8, 10]\n",
    "a[3:3] = ['a', 'b', 'c']\n",
    "print(a)"
   ]
  },
  {
   "cell_type": "code",
   "execution_count": 41,
   "id": "6548a518-3423-4d21-8d53-360299254fd7",
   "metadata": {},
   "outputs": [
    {
     "name": "stdout",
     "output_type": "stream",
     "text": [
      "[2, 4, 6, 8, 10]\n"
     ]
    }
   ],
   "source": [
    "#problem 5\n",
    "a = [2, 4, 6, 8, 10]\n",
    "print(a)"
   ]
  },
  {
   "cell_type": "code",
   "execution_count": 43,
   "id": "04b14200-0c02-445d-98db-ddc15881e13a",
   "metadata": {},
   "outputs": [
    {
     "name": "stdout",
     "output_type": "stream",
     "text": [
      "[]\n"
     ]
    }
   ],
   "source": [
    "#problem 6\n",
    "print(a[0:0])"
   ]
  },
  {
   "cell_type": "code",
   "execution_count": 45,
   "id": "d6c31ed8-c4cd-46bb-b16b-caa323275dbd",
   "metadata": {},
   "outputs": [
    {
     "name": "stdout",
     "output_type": "stream",
     "text": [
      "[10, 8, 6, 4, 2]\n"
     ]
    }
   ],
   "source": [
    "#problem 7\n",
    "print(a[::-1])"
   ]
  },
  {
   "cell_type": "code",
   "execution_count": 46,
   "id": "70a382de-4919-4d3b-86aa-33073a3e1211",
   "metadata": {},
   "outputs": [
    {
     "name": "stdout",
     "output_type": "stream",
     "text": [
      "[2, 4, 6]\n"
     ]
    }
   ],
   "source": [
    "#problem 8\n",
    "print(a[0:3])"
   ]
  },
  {
   "cell_type": "code",
   "execution_count": 47,
   "id": "6a4e95a1-4360-4104-bdd4-6cbd6a4addcd",
   "metadata": {},
   "outputs": [
    {
     "name": "stdout",
     "output_type": "stream",
     "text": [
      "[6, 8, 10]\n"
     ]
    }
   ],
   "source": [
    "#problem 9\n",
    "print(a[2:])"
   ]
  },
  {
   "cell_type": "code",
   "execution_count": 48,
   "id": "0e3ebd85-6b81-4a94-9c3c-3cbae219d65a",
   "metadata": {},
   "outputs": [
    {
     "name": "stdout",
     "output_type": "stream",
     "text": [
      "[2, 10]\n"
     ]
    }
   ],
   "source": [
    "#problem 10\n",
    "a[1:4]=[]\n",
    "print(a)"
   ]
  },
  {
   "cell_type": "code",
   "execution_count": 52,
   "id": "2feaaeba-8239-4d2d-80e8-91d93490f38b",
   "metadata": {},
   "outputs": [
    {
     "name": "stdout",
     "output_type": "stream",
     "text": [
      "[4, 6, 8]\n"
     ]
    }
   ],
   "source": [
    "#problem 11\n",
    "a = [2, 4, 6, 8, 10]\n",
    "print(a[1:4])"
   ]
  }
 ],
 "metadata": {
  "kernelspec": {
   "display_name": "Python 3 (ipykernel)",
   "language": "python",
   "name": "python3"
  },
  "language_info": {
   "codemirror_mode": {
    "name": "ipython",
    "version": 3
   },
   "file_extension": ".py",
   "mimetype": "text/x-python",
   "name": "python",
   "nbconvert_exporter": "python",
   "pygments_lexer": "ipython3",
   "version": "3.11.5"
  }
 },
 "nbformat": 4,
 "nbformat_minor": 5
}
